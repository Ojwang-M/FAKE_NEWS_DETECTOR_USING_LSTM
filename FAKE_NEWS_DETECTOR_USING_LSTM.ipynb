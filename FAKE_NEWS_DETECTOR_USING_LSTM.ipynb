{
  "nbformat": 4,
  "nbformat_minor": 0,
  "metadata": {
    "colab": {
      "provenance": []
    },
    "kernelspec": {
      "name": "python3",
      "display_name": "Python 3"
    },
    "language_info": {
      "name": "python"
    }
  },
  "cells": [
    {
      "cell_type": "code",
      "execution_count": 2,
      "metadata": {
        "colab": {
          "base_uri": "https://localhost:8080/"
        },
        "id": "-vyhUWlnuhNY",
        "outputId": "8977c545-7332-478d-dab5-9c6621473e9c"
      },
      "outputs": [
        {
          "output_type": "stream",
          "name": "stdout",
          "text": [
            "\u001b[?25l   \u001b[90m━━━━━━━━━━━━━━━━━━━━━━━━━━━━━━━━━━━━━━━━\u001b[0m \u001b[32m0.0/345.1 kB\u001b[0m \u001b[31m?\u001b[0m eta \u001b[36m-:--:--\u001b[0m\r\u001b[2K   \u001b[91m━━━━━━━━━━━━━━━━━━━━━━━━━━━━━━━━━━━━━━━\u001b[0m\u001b[90m╺\u001b[0m \u001b[32m337.9/345.1 kB\u001b[0m \u001b[31m11.4 MB/s\u001b[0m eta \u001b[36m0:00:01\u001b[0m\r\u001b[2K   \u001b[90m━━━━━━━━━━━━━━━━━━━━━━━━━━━━━━━━━━━━━━━━\u001b[0m \u001b[32m345.1/345.1 kB\u001b[0m \u001b[31m7.5 MB/s\u001b[0m eta \u001b[36m0:00:00\u001b[0m\n",
            "\u001b[?25h\u001b[?25l   \u001b[90m━━━━━━━━━━━━━━━━━━━━━━━━━━━━━━━━━━━━━━━━\u001b[0m \u001b[32m0.0/113.9 kB\u001b[0m \u001b[31m?\u001b[0m eta \u001b[36m-:--:--\u001b[0m\r\u001b[2K   \u001b[90m━━━━━━━━━━━━━━━━━━━━━━━━━━━━━━━━━━━━━━━━\u001b[0m \u001b[32m113.9/113.9 kB\u001b[0m \u001b[31m7.1 MB/s\u001b[0m eta \u001b[36m0:00:00\u001b[0m\n",
            "\u001b[?25h"
          ]
        }
      ],
      "source": [
        "!pip install contractions -q"
      ]
    },
    {
      "cell_type": "code",
      "source": [
        "import pandas as pd\n",
        "import matplotlib.pyplot as plt\n",
        "import seaborn as sns\n",
        "import numpy as np\n",
        "import re\n",
        "import string\n",
        "from wordcloud import WordCloud\n",
        "import nltk\n",
        "from collections import Counter\n",
        "import contractions\n",
        "from tqdm import tqdm\n",
        "\n",
        "import torch\n",
        "import torch.nn as nn\n",
        "from torch.utils.data import Dataset, dataloader\n",
        "import torch.optim as optim\n",
        "\n",
        "from sklearn.metrics import accuracy_score, precision_score, recall_score, f1_score, confusion_matrix\n",
        "from sklearn.model_selection import train_test_split\n",
        "\n",
        "nltk.download('stopwords')\n",
        "from nltk.corpus import stopwords\n",
        "\n",
        "stop_words = set(stopwords.words('english'))"
      ],
      "metadata": {
        "colab": {
          "base_uri": "https://localhost:8080/"
        },
        "id": "D-X6ziFAvWPk",
        "outputId": "1015ee50-4a71-432b-978d-fe217c3ac17e"
      },
      "execution_count": 3,
      "outputs": [
        {
          "output_type": "stream",
          "name": "stderr",
          "text": [
            "[nltk_data] Downloading package stopwords to /root/nltk_data...\n",
            "[nltk_data]   Unzipping corpora/stopwords.zip.\n"
          ]
        }
      ]
    },
    {
      "cell_type": "markdown",
      "source": [
        "# Data analysis"
      ],
      "metadata": {
        "id": "jKCEq8rUxQOC"
      }
    },
    {
      "cell_type": "code",
      "source": [
        "# Load datasets\n",
        "fake_df = pd.read_csv(\"/content/drive/MyDrive/Fake_and_real_news/Fake.csv\")\n",
        "real_df = pd.read_csv(\"/content/drive/MyDrive/Fake_and_real_news/True.csv\")"
      ],
      "metadata": {
        "id": "AwFk6PgbxvZW"
      },
      "execution_count": 4,
      "outputs": []
    },
    {
      "cell_type": "code",
      "source": [
        "fake_df['label'] = 0\n",
        "real_df['label'] = 1\n",
        "\n",
        "df  = pd.concat([fake_df, real_df], ignore_index=True)\n",
        "df  = df.sample(frac=1, random_state=42). reset_index(drop=True)\n",
        "\n",
        "# Combine title and text\n",
        "df['combined_text'] = df['title'] + \" \" + df['text']"
      ],
      "metadata": {
        "id": "2W1hIV8oyLIY"
      },
      "execution_count": 5,
      "outputs": []
    },
    {
      "cell_type": "code",
      "source": [
        "def clean_text(text):\n",
        "  if isinstance(text, bytes):\n",
        "      text = text.decode('utf-8') # Or the appropriate encoding if not utf-8\n",
        "\n",
        "  text = contractions.fix(text)   # Expand contractions\n",
        "\n",
        "  # Ensure text is a string after contractions.fix()\n",
        "  if isinstance(text, bytes):\n",
        "      text = text.decode('utf-8') # Decode if contractions.fix returned bytes\n",
        "\n",
        "  text = text.encode(\"ascii\", errors=\"ignore\").decode() #Remove non-ASCII characters\n",
        "  text = text.lower()       #Lower case\n",
        "  text = re.sub(r\"http\\S+|www.\\S+\", \"\", text)   #Remove URLs\n",
        "  text = re.sub(r\"<.*?>\", \"\",text)    #Remove HTML tags\n",
        "  text = re.sub(r\"[^a-z\\s]\", \"\", text)   #Keep only letters and spaces\n",
        "  text = re.sub(r\"\\b\\w{1}\\b\", \"\", text)   #Remove single letter words\n",
        "  text = re.sub(r\"\\s+\", \" \", text).strip()     #Remove extra spaces\n",
        "  words = text.split()\n",
        "  words = [word for word in words if word not in stop_words]    #Remove stopwords\n",
        "  return \" \".join(words)"
      ],
      "metadata": {
        "id": "etfxs0iS0bHN"
      },
      "execution_count": 6,
      "outputs": []
    },
    {
      "cell_type": "code",
      "source": [
        "df['clean_text'] = df['combined_text'].apply(clean_text)\n",
        "df[['clean_text', 'label']].head()"
      ],
      "metadata": {
        "colab": {
          "base_uri": "https://localhost:8080/",
          "height": 206
        },
        "id": "dSVf1-yv-Bhw",
        "outputId": "88f95460-4f18-4c85-e2f1-b08603289033"
      },
      "execution_count": 7,
      "outputs": [
        {
          "output_type": "execute_result",
          "data": {
            "text/plain": [
              "                                          clean_text  label\n",
              "0  ben stein calls th circuit court committed cou...      0\n",
              "1  trump drops steve bannon national security cou...      1\n",
              "2  puerto rico expects yous lift jones act shippi...      1\n",
              "3  oops trump accidentally confirmed leaked israe...      0\n",
              "4  donald trump heads scotland reopen golf resort...      1"
            ],
            "text/html": [
              "\n",
              "  <div id=\"df-9b1dadfc-f2dc-4d39-aefb-66aa536d5305\" class=\"colab-df-container\">\n",
              "    <div>\n",
              "<style scoped>\n",
              "    .dataframe tbody tr th:only-of-type {\n",
              "        vertical-align: middle;\n",
              "    }\n",
              "\n",
              "    .dataframe tbody tr th {\n",
              "        vertical-align: top;\n",
              "    }\n",
              "\n",
              "    .dataframe thead th {\n",
              "        text-align: right;\n",
              "    }\n",
              "</style>\n",
              "<table border=\"1\" class=\"dataframe\">\n",
              "  <thead>\n",
              "    <tr style=\"text-align: right;\">\n",
              "      <th></th>\n",
              "      <th>clean_text</th>\n",
              "      <th>label</th>\n",
              "    </tr>\n",
              "  </thead>\n",
              "  <tbody>\n",
              "    <tr>\n",
              "      <th>0</th>\n",
              "      <td>ben stein calls th circuit court committed cou...</td>\n",
              "      <td>0</td>\n",
              "    </tr>\n",
              "    <tr>\n",
              "      <th>1</th>\n",
              "      <td>trump drops steve bannon national security cou...</td>\n",
              "      <td>1</td>\n",
              "    </tr>\n",
              "    <tr>\n",
              "      <th>2</th>\n",
              "      <td>puerto rico expects yous lift jones act shippi...</td>\n",
              "      <td>1</td>\n",
              "    </tr>\n",
              "    <tr>\n",
              "      <th>3</th>\n",
              "      <td>oops trump accidentally confirmed leaked israe...</td>\n",
              "      <td>0</td>\n",
              "    </tr>\n",
              "    <tr>\n",
              "      <th>4</th>\n",
              "      <td>donald trump heads scotland reopen golf resort...</td>\n",
              "      <td>1</td>\n",
              "    </tr>\n",
              "  </tbody>\n",
              "</table>\n",
              "</div>\n",
              "    <div class=\"colab-df-buttons\">\n",
              "\n",
              "  <div class=\"colab-df-container\">\n",
              "    <button class=\"colab-df-convert\" onclick=\"convertToInteractive('df-9b1dadfc-f2dc-4d39-aefb-66aa536d5305')\"\n",
              "            title=\"Convert this dataframe to an interactive table.\"\n",
              "            style=\"display:none;\">\n",
              "\n",
              "  <svg xmlns=\"http://www.w3.org/2000/svg\" height=\"24px\" viewBox=\"0 -960 960 960\">\n",
              "    <path d=\"M120-120v-720h720v720H120Zm60-500h600v-160H180v160Zm220 220h160v-160H400v160Zm0 220h160v-160H400v160ZM180-400h160v-160H180v160Zm440 0h160v-160H620v160ZM180-180h160v-160H180v160Zm440 0h160v-160H620v160Z\"/>\n",
              "  </svg>\n",
              "    </button>\n",
              "\n",
              "  <style>\n",
              "    .colab-df-container {\n",
              "      display:flex;\n",
              "      gap: 12px;\n",
              "    }\n",
              "\n",
              "    .colab-df-convert {\n",
              "      background-color: #E8F0FE;\n",
              "      border: none;\n",
              "      border-radius: 50%;\n",
              "      cursor: pointer;\n",
              "      display: none;\n",
              "      fill: #1967D2;\n",
              "      height: 32px;\n",
              "      padding: 0 0 0 0;\n",
              "      width: 32px;\n",
              "    }\n",
              "\n",
              "    .colab-df-convert:hover {\n",
              "      background-color: #E2EBFA;\n",
              "      box-shadow: 0px 1px 2px rgba(60, 64, 67, 0.3), 0px 1px 3px 1px rgba(60, 64, 67, 0.15);\n",
              "      fill: #174EA6;\n",
              "    }\n",
              "\n",
              "    .colab-df-buttons div {\n",
              "      margin-bottom: 4px;\n",
              "    }\n",
              "\n",
              "    [theme=dark] .colab-df-convert {\n",
              "      background-color: #3B4455;\n",
              "      fill: #D2E3FC;\n",
              "    }\n",
              "\n",
              "    [theme=dark] .colab-df-convert:hover {\n",
              "      background-color: #434B5C;\n",
              "      box-shadow: 0px 1px 3px 1px rgba(0, 0, 0, 0.15);\n",
              "      filter: drop-shadow(0px 1px 2px rgba(0, 0, 0, 0.3));\n",
              "      fill: #FFFFFF;\n",
              "    }\n",
              "  </style>\n",
              "\n",
              "    <script>\n",
              "      const buttonEl =\n",
              "        document.querySelector('#df-9b1dadfc-f2dc-4d39-aefb-66aa536d5305 button.colab-df-convert');\n",
              "      buttonEl.style.display =\n",
              "        google.colab.kernel.accessAllowed ? 'block' : 'none';\n",
              "\n",
              "      async function convertToInteractive(key) {\n",
              "        const element = document.querySelector('#df-9b1dadfc-f2dc-4d39-aefb-66aa536d5305');\n",
              "        const dataTable =\n",
              "          await google.colab.kernel.invokeFunction('convertToInteractive',\n",
              "                                                    [key], {});\n",
              "        if (!dataTable) return;\n",
              "\n",
              "        const docLinkHtml = 'Like what you see? Visit the ' +\n",
              "          '<a target=\"_blank\" href=https://colab.research.google.com/notebooks/data_table.ipynb>data table notebook</a>'\n",
              "          + ' to learn more about interactive tables.';\n",
              "        element.innerHTML = '';\n",
              "        dataTable['output_type'] = 'display_data';\n",
              "        await google.colab.output.renderOutput(dataTable, element);\n",
              "        const docLink = document.createElement('div');\n",
              "        docLink.innerHTML = docLinkHtml;\n",
              "        element.appendChild(docLink);\n",
              "      }\n",
              "    </script>\n",
              "  </div>\n",
              "\n",
              "\n",
              "    <div id=\"df-88749986-02fb-4632-bac7-26b47a49d41f\">\n",
              "      <button class=\"colab-df-quickchart\" onclick=\"quickchart('df-88749986-02fb-4632-bac7-26b47a49d41f')\"\n",
              "                title=\"Suggest charts\"\n",
              "                style=\"display:none;\">\n",
              "\n",
              "<svg xmlns=\"http://www.w3.org/2000/svg\" height=\"24px\"viewBox=\"0 0 24 24\"\n",
              "     width=\"24px\">\n",
              "    <g>\n",
              "        <path d=\"M19 3H5c-1.1 0-2 .9-2 2v14c0 1.1.9 2 2 2h14c1.1 0 2-.9 2-2V5c0-1.1-.9-2-2-2zM9 17H7v-7h2v7zm4 0h-2V7h2v10zm4 0h-2v-4h2v4z\"/>\n",
              "    </g>\n",
              "</svg>\n",
              "      </button>\n",
              "\n",
              "<style>\n",
              "  .colab-df-quickchart {\n",
              "      --bg-color: #E8F0FE;\n",
              "      --fill-color: #1967D2;\n",
              "      --hover-bg-color: #E2EBFA;\n",
              "      --hover-fill-color: #174EA6;\n",
              "      --disabled-fill-color: #AAA;\n",
              "      --disabled-bg-color: #DDD;\n",
              "  }\n",
              "\n",
              "  [theme=dark] .colab-df-quickchart {\n",
              "      --bg-color: #3B4455;\n",
              "      --fill-color: #D2E3FC;\n",
              "      --hover-bg-color: #434B5C;\n",
              "      --hover-fill-color: #FFFFFF;\n",
              "      --disabled-bg-color: #3B4455;\n",
              "      --disabled-fill-color: #666;\n",
              "  }\n",
              "\n",
              "  .colab-df-quickchart {\n",
              "    background-color: var(--bg-color);\n",
              "    border: none;\n",
              "    border-radius: 50%;\n",
              "    cursor: pointer;\n",
              "    display: none;\n",
              "    fill: var(--fill-color);\n",
              "    height: 32px;\n",
              "    padding: 0;\n",
              "    width: 32px;\n",
              "  }\n",
              "\n",
              "  .colab-df-quickchart:hover {\n",
              "    background-color: var(--hover-bg-color);\n",
              "    box-shadow: 0 1px 2px rgba(60, 64, 67, 0.3), 0 1px 3px 1px rgba(60, 64, 67, 0.15);\n",
              "    fill: var(--button-hover-fill-color);\n",
              "  }\n",
              "\n",
              "  .colab-df-quickchart-complete:disabled,\n",
              "  .colab-df-quickchart-complete:disabled:hover {\n",
              "    background-color: var(--disabled-bg-color);\n",
              "    fill: var(--disabled-fill-color);\n",
              "    box-shadow: none;\n",
              "  }\n",
              "\n",
              "  .colab-df-spinner {\n",
              "    border: 2px solid var(--fill-color);\n",
              "    border-color: transparent;\n",
              "    border-bottom-color: var(--fill-color);\n",
              "    animation:\n",
              "      spin 1s steps(1) infinite;\n",
              "  }\n",
              "\n",
              "  @keyframes spin {\n",
              "    0% {\n",
              "      border-color: transparent;\n",
              "      border-bottom-color: var(--fill-color);\n",
              "      border-left-color: var(--fill-color);\n",
              "    }\n",
              "    20% {\n",
              "      border-color: transparent;\n",
              "      border-left-color: var(--fill-color);\n",
              "      border-top-color: var(--fill-color);\n",
              "    }\n",
              "    30% {\n",
              "      border-color: transparent;\n",
              "      border-left-color: var(--fill-color);\n",
              "      border-top-color: var(--fill-color);\n",
              "      border-right-color: var(--fill-color);\n",
              "    }\n",
              "    40% {\n",
              "      border-color: transparent;\n",
              "      border-right-color: var(--fill-color);\n",
              "      border-top-color: var(--fill-color);\n",
              "    }\n",
              "    60% {\n",
              "      border-color: transparent;\n",
              "      border-right-color: var(--fill-color);\n",
              "    }\n",
              "    80% {\n",
              "      border-color: transparent;\n",
              "      border-right-color: var(--fill-color);\n",
              "      border-bottom-color: var(--fill-color);\n",
              "    }\n",
              "    90% {\n",
              "      border-color: transparent;\n",
              "      border-bottom-color: var(--fill-color);\n",
              "    }\n",
              "  }\n",
              "</style>\n",
              "\n",
              "      <script>\n",
              "        async function quickchart(key) {\n",
              "          const quickchartButtonEl =\n",
              "            document.querySelector('#' + key + ' button');\n",
              "          quickchartButtonEl.disabled = true;  // To prevent multiple clicks.\n",
              "          quickchartButtonEl.classList.add('colab-df-spinner');\n",
              "          try {\n",
              "            const charts = await google.colab.kernel.invokeFunction(\n",
              "                'suggestCharts', [key], {});\n",
              "          } catch (error) {\n",
              "            console.error('Error during call to suggestCharts:', error);\n",
              "          }\n",
              "          quickchartButtonEl.classList.remove('colab-df-spinner');\n",
              "          quickchartButtonEl.classList.add('colab-df-quickchart-complete');\n",
              "        }\n",
              "        (() => {\n",
              "          let quickchartButtonEl =\n",
              "            document.querySelector('#df-88749986-02fb-4632-bac7-26b47a49d41f button');\n",
              "          quickchartButtonEl.style.display =\n",
              "            google.colab.kernel.accessAllowed ? 'block' : 'none';\n",
              "        })();\n",
              "      </script>\n",
              "    </div>\n",
              "\n",
              "    </div>\n",
              "  </div>\n"
            ],
            "application/vnd.google.colaboratory.intrinsic+json": {
              "type": "dataframe",
              "summary": "{\n  \"name\": \"df[['clean_text', 'label']]\",\n  \"rows\": 5,\n  \"fields\": [\n    {\n      \"column\": \"clean_text\",\n      \"properties\": {\n        \"dtype\": \"string\",\n        \"num_unique_values\": 5,\n        \"samples\": [\n          \"trump drops steve bannon national security council washington reuters yous president donald trump removed chief strategist steve bannon national security council wednesday reversing controversial decision early year give political adviser unprecedented role security discussions trumps overhaul nsc confirmed white house official also elevated general joseph dunford chairman joint chiefs staff dan coats director national intelligence heads yous intelligence agencies official said change moves nsc back core function supposed also appears mark victory national security adviser hr mcmaster told national security experts felt battle death bannon others white house staff vice president mike pence said bannon would continue play important role policy played shakeup routine natural evolution ensure national security council organized way best serves president resolving making difficult decisions pence said fox news bannon said statement succeeded returning nsc back traditional role coordinating foreign policy rather running cited president barack obamas national security adviser susan rice advocated change susan rice operationalized nsc last administration put nsc ensure deoperationalized general mcmaster nsc back proper function said trumps white house team grappled infighting intrigue hobbled young presidency recent days several senior yous foreign policy national security officials said mechanisms shaping trump administrations response pressing challenges syria north korea iran still place critics bannons role nsc said gave much weight decisionmaking someone lacked foreign policy expertise bannon chief executive trumps presidential campaign months leading election november respects represents trumps america first nationalistic voice helping fuel antiwashington fervor pushing president part ways times mainstream republicans joining trump administration bannon headed breitbart news rightwing website yous representative adam schiff ranking democrat house representatives intelligence committee called shift nsc positive step help mcmaster gain control body politicized bannons involvement administrations policy north korea china russia syria continues drift hope shakeup brings level strategic vision body said bannons removal nsc potential setback sphere influence trump white house voice major decisions trump confidant said bannon remained influential ever still involved everything still full confidence president fair much stuff confidant said speaking condition anonymity white house official said bannon longer needed nsc departure trumps first national security adviser michael flynn flynn forced resign february contacts russias ambassador united states sergei kislyak prior trump taking office january official said bannon placed nsc originally check flynn attended one nscs regular meetings official dismissed questions power struggle bannon mcmaster saying shared world view however two current national security officials rejected white house explanation noting two months passed since flynns departure mcmaster said speaking condition anonymity also dueled bannon others direct access trump future deputy national security adviser kt mcfarland former fox news commentator intelligence director ezra cohenwatnick flynn appointee staffing decisions trump preparing first facetoface meeting thursday friday chinese president xi jinping threat north koreas nuclear missile programs key component talks bannons seat nscs principals committee group includes secretaries state defense ranking aides taken rick perry energy secretary charged overseeing yous nuclear weapons arsenal\",\n          \"donald trump heads scotland reopen golf resort glasgow scotland reuters yous presidential candidates go abroad sharpen foreign policy credentials donald trump arrives scotland friday reopen golf resort presumptive republican nominee visits familys ancestral homeland showcase farflung business empire mother born scotlands isle lewis throng reporters watching make dramatic arrival helicopter seaside trump turnberry resort scheduled news conference th hole noon et gmt visit turnberry followed stop resort aberdeen saturday allow comment outcome britains vote thursday whether remain european union think opening golf resort gets many foreign policy chops said saul anuzis former chairman michigan republican party since right middle eu vote may end pr bonanza risk realestate tycoon yet hold public office rates unfavorably percent americans opinion poll make foreign policy misstep time republican leaders urging serious demeanor trump said would inclined leave eu exchanged insults british prime minister david cameron called new yorkers antiimmigrant policy ideas divisive wrong plans two meet trip baffled republican officials say concentrate strengthening campaign taking fight presumptive democratic nominee former yous secretary state hillary clinton trump defeated crowded field opponents republican nomination faced one controversy another latest firing campaign manager week month party convention campaign got kinds growing pains make sense would spend kind time going country said david yepsen director paul simon public policy institute southern illinois university turnberry storied course open championship staged four times trump invested million renovating resort golf course scotlands west coast km miles southwest glasgow portrayed determination build courses turnberry aberdeen overcome local opposition example type leadership skills americans would get wins white house november well scotland already united states trump wrote column press journal newspaper aberdeen aberdeen family opposed development threatened raise mexican flag reminder proposal build wall along yous southern border keep immigrants enter illegally last republican presidential nominee former massachusetts governor mitt romney made gaffefilled campaign trip london jerusalem poland\",\n          \"puerto rico expects yous lift jones act shipping restrictions reuters puerto rico governor ricardo rossello said wednesday expected federal government waive jones act would lift restrictions ships provide aid island devastated hurricane maria said speaking members congress parties supported emergency waiver expect waive rossello said interview cnn noted sevenday waiver hurricane irma much less devastating island tuesday trump administration said need waive shipping restrictions help get fuel supplies stormravaged puerto rico saying would nothing address islands damaged ports main impediment shipping waiver would allow puerto rico get help yous ships ships bring aid critical particularly fuel said one considerations right priority getting fuel diesel gasoline across island right enough fuel limited transportation logistics point course getting fuel island going critical major functions telecoms hospitals water running appropriately jones act requires goods shipped yous ports carried american ownedandoperated ships yous senator john mccain asked acting department homeland security secretary elaine duke tuesday grant emergency waiver law said puerto rican residents would pay least twice much food drinking water supplies without waiver corrected version story fixes paragraph four show administration formally denied waiver request\"\n        ],\n        \"semantic_type\": \"\",\n        \"description\": \"\"\n      }\n    },\n    {\n      \"column\": \"label\",\n      \"properties\": {\n        \"dtype\": \"number\",\n        \"std\": 0,\n        \"min\": 0,\n        \"max\": 1,\n        \"num_unique_values\": 2,\n        \"samples\": [\n          1,\n          0\n        ],\n        \"semantic_type\": \"\",\n        \"description\": \"\"\n      }\n    }\n  ]\n}"
            }
          },
          "metadata": {},
          "execution_count": 7
        }
      ]
    },
    {
      "cell_type": "code",
      "source": [
        "sns.countplot(x=\"label\", data=df)\n",
        "plt.xticks([0, 1], [\"Fake\", \"Real\"])\n",
        "plt.title(\"Distribution of News Classes\")\n",
        "plt.xlabel(\"Label\")\n",
        "plt.ylabel(\"Count\")\n",
        "plt.show()"
      ],
      "metadata": {
        "colab": {
          "base_uri": "https://localhost:8080/",
          "height": 472
        },
        "id": "fg1QMJTl-Ua3",
        "outputId": "2d04f810-64bc-4b00-b98d-2ccfc3d6fb38"
      },
      "execution_count": 8,
      "outputs": [
        {
          "output_type": "display_data",
          "data": {
            "text/plain": [
              "<Figure size 640x480 with 1 Axes>"
            ],
            "image/png": "[encoded data removed]"
          },
          "metadata": {}
        }
      ]
    },
    {
      "cell_type": "code",
      "source": [
        "plt.figure(figsize=(10, 5))\n",
        "sns.countplot(data=df, x=\"subject\", order=df[\"subject\"].value_counts().index)\n",
        "plt.title(\"Distribution of News Subjects\")\n",
        "plt.xticks(rotation=45)\n",
        "plt.show()"
      ],
      "metadata": {
        "colab": {
          "base_uri": "https://localhost:8080/",
          "height": 574
        },
        "id": "cgZ5NYflBoDS",
        "outputId": "175ebea7-970f-414f-8468-ed96f7ff35b3"
      },
      "execution_count": 9,
      "outputs": [
        {
          "output_type": "display_data",
          "data": {
            "text/plain": [
              "<Figure size 1000x500 with 1 Axes>"
            ],
            "image/png": "[encoded data removed]"
          },
          "metadata": {}
        }
      ]
    },
    {
      "cell_type": "code",
      "source": [
        "df[\"text_length\"] = df[\"clean_text\"].apply(lambda x: len(x.split()))\n",
        "df[\"char_length\"] = df[\"clean_text\"].apply(len)\n",
        "\n",
        "# Word count\n",
        "sns.histplot(df[\"text_length\"], bins=50, kde=True)\n",
        "plt.title(\"Distribution of Word Counts in Articles\")\n",
        "plt.xlabel(\"Word Count\")\n",
        "plt.ylabel(\"Frequency\")\n",
        "plt.show()\n",
        "\n",
        "# Character count\n",
        "sns.histplot(df[\"char_length\"], bins=50, kde=True, color='orange')\n",
        "plt.title(\"Distribution of Character Counts in Articles\")\n",
        "plt.xlabel(\"Character Count\")\n",
        "plt.ylabel(\"Frequency\")\n",
        "plt.show()"
      ],
      "metadata": {
        "colab": {
          "base_uri": "https://localhost:8080/",
          "height": 927
        },
        "id": "bboY3cDLCNyP",
        "outputId": "0c98338d-f344-4c67-fcbd-b32c6b01e563"
      },
      "execution_count": 10,
      "outputs": [
        {
          "output_type": "display_data",
          "data": {
            "text/plain": [
              "<Figure size 640x480 with 1 Axes>"
            ],
            "image/png": "[encoded data removed]"
          },
          "metadata": {}
        },
        {
          "output_type": "display_data",
          "data": {
            "text/plain": [
              "<Figure size 640x480 with 1 Axes>"
            ],
            "image/png": "[encoded data removed]"
          },
          "metadata": {}
        }
      ]
    },
    {
      "cell_type": "markdown",
      "source": [
        "Final Data Frame"
      ],
      "metadata": {
        "id": "0p3wKttHEx0w"
      }
    },
    {
      "cell_type": "code",
      "source": [
        "df"
      ],
      "metadata": {
        "colab": {
          "base_uri": "https://localhost:8080/",
          "height": 597
        },
        "id": "TdQ_4hOxFOzP",
        "outputId": "062e1806-e9ee-4adb-c229-ca86b20ccf45"
      },
      "execution_count": 11,
      "outputs": [
        {
          "output_type": "execute_result",
          "data": {
            "text/plain": [
              "                                                   title  \\\n",
              "0      Ben Stein Calls Out 9th Circuit Court: Committ...   \n",
              "1      Trump drops Steve Bannon from National Securit...   \n",
              "2      Puerto Rico expects U.S. to lift Jones Act shi...   \n",
              "3       OOPS: Trump Just Accidentally Confirmed He Le...   \n",
              "4      Donald Trump heads for Scotland to reopen a go...   \n",
              "...                                                  ...   \n",
              "44893  UNREAL! CBS’S TED KOPPEL Tells Sean Hannity He...   \n",
              "44894  PM May seeks to ease Japan's Brexit fears duri...   \n",
              "44895  Merkel: Difficult German coalition talks can r...   \n",
              "44896   Trump Stole An Idea From North Korean Propaga...   \n",
              "44897  BREAKING: HILLARY CLINTON’S STATE DEPARTMENT G...   \n",
              "\n",
              "                                                    text       subject  \\\n",
              "0      21st Century Wire says Ben Stein, reputable pr...       US_News   \n",
              "1      WASHINGTON (Reuters) - U.S. President Donald T...  politicsNews   \n",
              "2      (Reuters) - Puerto Rico Governor Ricardo Rosse...  politicsNews   \n",
              "3      On Monday, Donald Trump once again embarrassed...          News   \n",
              "4      GLASGOW, Scotland (Reuters) - Most U.S. presid...  politicsNews   \n",
              "...                                                  ...           ...   \n",
              "44893                                                         politics   \n",
              "44894  LONDON/TOKYO (Reuters) - British Prime Ministe...     worldnews   \n",
              "44895  BERLIN (Reuters) - Chancellor Angela Merkel sa...     worldnews   \n",
              "44896  Jesus f*cking Christ our President* is a moron...          News   \n",
              "44897  IF SHE S NOT TOAST NOW THEN WE RE IN BIGGER TR...      politics   \n",
              "\n",
              "                      date  label  \\\n",
              "0        February 13, 2017      0   \n",
              "1           April 5, 2017       1   \n",
              "2      September 27, 2017       1   \n",
              "3             May 22, 2017      0   \n",
              "4           June 24, 2016       1   \n",
              "...                    ...    ...   \n",
              "44893         Mar 27, 2017      0   \n",
              "44894     August 29, 2017       1   \n",
              "44895   November 16, 2017       1   \n",
              "44896        July 14, 2017      0   \n",
              "44897         Apr 23, 2015      0   \n",
              "\n",
              "                                           combined_text  \\\n",
              "0      Ben Stein Calls Out 9th Circuit Court: Committ...   \n",
              "1      Trump drops Steve Bannon from National Securit...   \n",
              "2      Puerto Rico expects U.S. to lift Jones Act shi...   \n",
              "3       OOPS: Trump Just Accidentally Confirmed He Le...   \n",
              "4      Donald Trump heads for Scotland to reopen a go...   \n",
              "...                                                  ...   \n",
              "44893  UNREAL! CBS’S TED KOPPEL Tells Sean Hannity He...   \n",
              "44894  PM May seeks to ease Japan's Brexit fears duri...   \n",
              "44895  Merkel: Difficult German coalition talks can r...   \n",
              "44896   Trump Stole An Idea From North Korean Propaga...   \n",
              "44897  BREAKING: HILLARY CLINTON’S STATE DEPARTMENT G...   \n",
              "\n",
              "                                              clean_text  text_length  \\\n",
              "0      ben stein calls th circuit court committed cou...          109   \n",
              "1      trump drops steve bannon national security cou...          472   \n",
              "2      puerto rico expects yous lift jones act shippi...          182   \n",
              "3      oops trump accidentally confirmed leaked israe...          114   \n",
              "4      donald trump heads scotland reopen golf resort...          305   \n",
              "...                                                  ...          ...   \n",
              "44893  unreal cbss ted koppel tells sean hannity bad ...           10   \n",
              "44894  pm may seeks ease japans brexit fears trade vi...          429   \n",
              "44895  merkel difficult german coalition talks reach ...           45   \n",
              "44896  trump stole idea north korean propaganda parod...          480   \n",
              "44897  breaking hillary clintons state department gav...          149   \n",
              "\n",
              "       char_length  \n",
              "0              802  \n",
              "1             3613  \n",
              "2             1347  \n",
              "3              943  \n",
              "4             2278  \n",
              "...            ...  \n",
              "44893           59  \n",
              "44894         3224  \n",
              "44895          341  \n",
              "44896         3279  \n",
              "44897         1127  \n",
              "\n",
              "[44898 rows x 9 columns]"
            ],
            "text/html": [
              "\n",
              "  <div id=\"df-3fb085a2-eff6-48c1-bd38-327cb81b2569\" class=\"colab-df-container\">\n",
              "    <div>\n",
              "<style scoped>\n",
              "    .dataframe tbody tr th:only-of-type {\n",
              "        vertical-align: middle;\n",
              "    }\n",
              "\n",
              "    .dataframe tbody tr th {\n",
              "        vertical-align: top;\n",
              "    }\n",
              "\n",
              "    .dataframe thead th {\n",
              "        text-align: right;\n",
              "    }\n",
              "</style>\n",
              "<table border=\"1\" class=\"dataframe\">\n",
              "  <thead>\n",
              "    <tr style=\"text-align: right;\">\n",
              "      <th></th>\n",
              "      <th>title</th>\n",
              "      <th>text</th>\n",
              "      <th>subject</th>\n",
              "      <th>date</th>\n",
              "      <th>label</th>\n",
              "      <th>combined_text</th>\n",
              "      <th>clean_text</th>\n",
              "      <th>text_length</th>\n",
              "      <th>char_length</th>\n",
              "    </tr>\n",
              "  </thead>\n",
              "  <tbody>\n",
              "    <tr>\n",
              "      <th>0</th>\n",
              "      <td>Ben Stein Calls Out 9th Circuit Court: Committ...</td>\n",
              "      <td>21st Century Wire says Ben Stein, reputable pr...</td>\n",
              "      <td>US_News</td>\n",
              "      <td>February 13, 2017</td>\n",
              "      <td>0</td>\n",
              "      <td>Ben Stein Calls Out 9th Circuit Court: Committ...</td>\n",
              "      <td>ben stein calls th circuit court committed cou...</td>\n",
              "      <td>109</td>\n",
              "      <td>802</td>\n",
              "    </tr>\n",
              "    <tr>\n",
              "      <th>1</th>\n",
              "      <td>Trump drops Steve Bannon from National Securit...</td>\n",
              "      <td>WASHINGTON (Reuters) - U.S. President Donald T...</td>\n",
              "      <td>politicsNews</td>\n",
              "      <td>April 5, 2017</td>\n",
              "      <td>1</td>\n",
              "      <td>Trump drops Steve Bannon from National Securit...</td>\n",
              "      <td>trump drops steve bannon national security cou...</td>\n",
              "      <td>472</td>\n",
              "      <td>3613</td>\n",
              "    </tr>\n",
              "    <tr>\n",
              "      <th>2</th>\n",
              "      <td>Puerto Rico expects U.S. to lift Jones Act shi...</td>\n",
              "      <td>(Reuters) - Puerto Rico Governor Ricardo Rosse...</td>\n",
              "      <td>politicsNews</td>\n",
              "      <td>September 27, 2017</td>\n",
              "      <td>1</td>\n",
              "      <td>Puerto Rico expects U.S. to lift Jones Act shi...</td>\n",
              "      <td>puerto rico expects yous lift jones act shippi...</td>\n",
              "      <td>182</td>\n",
              "      <td>1347</td>\n",
              "    </tr>\n",
              "    <tr>\n",
              "      <th>3</th>\n",
              "      <td>OOPS: Trump Just Accidentally Confirmed He Le...</td>\n",
              "      <td>On Monday, Donald Trump once again embarrassed...</td>\n",
              "      <td>News</td>\n",
              "      <td>May 22, 2017</td>\n",
              "      <td>0</td>\n",
              "      <td>OOPS: Trump Just Accidentally Confirmed He Le...</td>\n",
              "      <td>oops trump accidentally confirmed leaked israe...</td>\n",
              "      <td>114</td>\n",
              "      <td>943</td>\n",
              "    </tr>\n",
              "    <tr>\n",
              "      <th>4</th>\n",
              "      <td>Donald Trump heads for Scotland to reopen a go...</td>\n",
              "      <td>GLASGOW, Scotland (Reuters) - Most U.S. presid...</td>\n",
              "      <td>politicsNews</td>\n",
              "      <td>June 24, 2016</td>\n",
              "      <td>1</td>\n",
              "      <td>Donald Trump heads for Scotland to reopen a go...</td>\n",
              "      <td>donald trump heads scotland reopen golf resort...</td>\n",
              "      <td>305</td>\n",
              "      <td>2278</td>\n",
              "    </tr>\n",
              "    <tr>\n",
              "      <th>...</th>\n",
              "      <td>...</td>\n",
              "      <td>...</td>\n",
              "      <td>...</td>\n",
              "      <td>...</td>\n",
              "      <td>...</td>\n",
              "      <td>...</td>\n",
              "      <td>...</td>\n",
              "      <td>...</td>\n",
              "      <td>...</td>\n",
              "    </tr>\n",
              "    <tr>\n",
              "      <th>44893</th>\n",
              "      <td>UNREAL! CBS’S TED KOPPEL Tells Sean Hannity He...</td>\n",
              "      <td></td>\n",
              "      <td>politics</td>\n",
              "      <td>Mar 27, 2017</td>\n",
              "      <td>0</td>\n",
              "      <td>UNREAL! CBS’S TED KOPPEL Tells Sean Hannity He...</td>\n",
              "      <td>unreal cbss ted koppel tells sean hannity bad ...</td>\n",
              "      <td>10</td>\n",
              "      <td>59</td>\n",
              "    </tr>\n",
              "    <tr>\n",
              "      <th>44894</th>\n",
              "      <td>PM May seeks to ease Japan's Brexit fears duri...</td>\n",
              "      <td>LONDON/TOKYO (Reuters) - British Prime Ministe...</td>\n",
              "      <td>worldnews</td>\n",
              "      <td>August 29, 2017</td>\n",
              "      <td>1</td>\n",
              "      <td>PM May seeks to ease Japan's Brexit fears duri...</td>\n",
              "      <td>pm may seeks ease japans brexit fears trade vi...</td>\n",
              "      <td>429</td>\n",
              "      <td>3224</td>\n",
              "    </tr>\n",
              "    <tr>\n",
              "      <th>44895</th>\n",
              "      <td>Merkel: Difficult German coalition talks can r...</td>\n",
              "      <td>BERLIN (Reuters) - Chancellor Angela Merkel sa...</td>\n",
              "      <td>worldnews</td>\n",
              "      <td>November 16, 2017</td>\n",
              "      <td>1</td>\n",
              "      <td>Merkel: Difficult German coalition talks can r...</td>\n",
              "      <td>merkel difficult german coalition talks reach ...</td>\n",
              "      <td>45</td>\n",
              "      <td>341</td>\n",
              "    </tr>\n",
              "    <tr>\n",
              "      <th>44896</th>\n",
              "      <td>Trump Stole An Idea From North Korean Propaga...</td>\n",
              "      <td>Jesus f*cking Christ our President* is a moron...</td>\n",
              "      <td>News</td>\n",
              "      <td>July 14, 2017</td>\n",
              "      <td>0</td>\n",
              "      <td>Trump Stole An Idea From North Korean Propaga...</td>\n",
              "      <td>trump stole idea north korean propaganda parod...</td>\n",
              "      <td>480</td>\n",
              "      <td>3279</td>\n",
              "    </tr>\n",
              "    <tr>\n",
              "      <th>44897</th>\n",
              "      <td>BREAKING: HILLARY CLINTON’S STATE DEPARTMENT G...</td>\n",
              "      <td>IF SHE S NOT TOAST NOW THEN WE RE IN BIGGER TR...</td>\n",
              "      <td>politics</td>\n",
              "      <td>Apr 23, 2015</td>\n",
              "      <td>0</td>\n",
              "      <td>BREAKING: HILLARY CLINTON’S STATE DEPARTMENT G...</td>\n",
              "      <td>breaking hillary clintons state department gav...</td>\n",
              "      <td>149</td>\n",
              "      <td>1127</td>\n",
              "    </tr>\n",
              "  </tbody>\n",
              "</table>\n",
              "<p>44898 rows × 9 columns</p>\n",
              "</div>\n",
              "    <div class=\"colab-df-buttons\">\n",
              "\n",
              "  <div class=\"colab-df-container\">\n",
              "    <button class=\"colab-df-convert\" onclick=\"convertToInteractive('df-3fb085a2-eff6-48c1-bd38-327cb81b2569')\"\n",
              "            title=\"Convert this dataframe to an interactive table.\"\n",
              "            style=\"display:none;\">\n",
              "\n",
              "  <svg xmlns=\"http://www.w3.org/2000/svg\" height=\"24px\" viewBox=\"0 -960 960 960\">\n",
              "    <path d=\"M120-120v-720h720v720H120Zm60-500h600v-160H180v160Zm220 220h160v-160H400v160Zm0 220h160v-160H400v160ZM180-400h160v-160H180v160Zm440 0h160v-160H620v160ZM180-180h160v-160H180v160Zm440 0h160v-160H620v160Z\"/>\n",
              "  </svg>\n",
              "    </button>\n",
              "\n",
              "  <style>\n",
              "    .colab-df-container {\n",
              "      display:flex;\n",
              "      gap: 12px;\n",
              "    }\n",
              "\n",
              "    .colab-df-convert {\n",
              "      background-color: #E8F0FE;\n",
              "      border: none;\n",
              "      border-radius: 50%;\n",
              "      cursor: pointer;\n",
              "      display: none;\n",
              "      fill: #1967D2;\n",
              "      height: 32px;\n",
              "      padding: 0 0 0 0;\n",
              "      width: 32px;\n",
              "    }\n",
              "\n",
              "    .colab-df-convert:hover {\n",
              "      background-color: #E2EBFA;\n",
              "      box-shadow: 0px 1px 2px rgba(60, 64, 67, 0.3), 0px 1px 3px 1px rgba(60, 64, 67, 0.15);\n",
              "      fill: #174EA6;\n",
              "    }\n",
              "\n",
              "    .colab-df-buttons div {\n",
              "      margin-bottom: 4px;\n",
              "    }\n",
              "\n",
              "    [theme=dark] .colab-df-convert {\n",
              "      background-color: #3B4455;\n",
              "      fill: #D2E3FC;\n",
              "    }\n",
              "\n",
              "    [theme=dark] .colab-df-convert:hover {\n",
              "      background-color: #434B5C;\n",
              "      box-shadow: 0px 1px 3px 1px rgba(0, 0, 0, 0.15);\n",
              "      filter: drop-shadow(0px 1px 2px rgba(0, 0, 0, 0.3));\n",
              "      fill: #FFFFFF;\n",
              "    }\n",
              "  </style>\n",
              "\n",
              "    <script>\n",
              "      const buttonEl =\n",
              "        document.querySelector('#df-3fb085a2-eff6-48c1-bd38-327cb81b2569 button.colab-df-convert');\n",
              "      buttonEl.style.display =\n",
              "        google.colab.kernel.accessAllowed ? 'block' : 'none';\n",
              "\n",
              "      async function convertToInteractive(key) {\n",
              "        const element = document.querySelector('#df-3fb085a2-eff6-48c1-bd38-327cb81b2569');\n",
              "        const dataTable =\n",
              "          await google.colab.kernel.invokeFunction('convertToInteractive',\n",
              "                                                    [key], {});\n",
              "        if (!dataTable) return;\n",
              "\n",
              "        const docLinkHtml = 'Like what you see? Visit the ' +\n",
              "          '<a target=\"_blank\" href=https://colab.research.google.com/notebooks/data_table.ipynb>data table notebook</a>'\n",
              "          + ' to learn more about interactive tables.';\n",
              "        element.innerHTML = '';\n",
              "        dataTable['output_type'] = 'display_data';\n",
              "        await google.colab.output.renderOutput(dataTable, element);\n",
              "        const docLink = document.createElement('div');\n",
              "        docLink.innerHTML = docLinkHtml;\n",
              "        element.appendChild(docLink);\n",
              "      }\n",
              "    </script>\n",
              "  </div>\n",
              "\n",
              "\n",
              "    <div id=\"df-5a121be9-5ced-42c2-aaa3-0d5e03f8de5f\">\n",
              "      <button class=\"colab-df-quickchart\" onclick=\"quickchart('df-5a121be9-5ced-42c2-aaa3-0d5e03f8de5f')\"\n",
              "                title=\"Suggest charts\"\n",
              "                style=\"display:none;\">\n",
              "\n",
              "<svg xmlns=\"http://www.w3.org/2000/svg\" height=\"24px\"viewBox=\"0 0 24 24\"\n",
              "     width=\"24px\">\n",
              "    <g>\n",
              "        <path d=\"M19 3H5c-1.1 0-2 .9-2 2v14c0 1.1.9 2 2 2h14c1.1 0 2-.9 2-2V5c0-1.1-.9-2-2-2zM9 17H7v-7h2v7zm4 0h-2V7h2v10zm4 0h-2v-4h2v4z\"/>\n",
              "    </g>\n",
              "</svg>\n",
              "      </button>\n",
              "\n",
              "<style>\n",
              "  .colab-df-quickchart {\n",
              "      --bg-color: #E8F0FE;\n",
              "      --fill-color: #1967D2;\n",
              "      --hover-bg-color: #E2EBFA;\n",
              "      --hover-fill-color: #174EA6;\n",
              "      --disabled-fill-color: #AAA;\n",
              "      --disabled-bg-color: #DDD;\n",
              "  }\n",
              "\n",
              "  [theme=dark] .colab-df-quickchart {\n",
              "      --bg-color: #3B4455;\n",
              "      --fill-color: #D2E3FC;\n",
              "      --hover-bg-color: #434B5C;\n",
              "      --hover-fill-color: #FFFFFF;\n",
              "      --disabled-bg-color: #3B4455;\n",
              "      --disabled-fill-color: #666;\n",
              "  }\n",
              "\n",
              "  .colab-df-quickchart {\n",
              "    background-color: var(--bg-color);\n",
              "    border: none;\n",
              "    border-radius: 50%;\n",
              "    cursor: pointer;\n",
              "    display: none;\n",
              "    fill: var(--fill-color);\n",
              "    height: 32px;\n",
              "    padding: 0;\n",
              "    width: 32px;\n",
              "  }\n",
              "\n",
              "  .colab-df-quickchart:hover {\n",
              "    background-color: var(--hover-bg-color);\n",
              "    box-shadow: 0 1px 2px rgba(60, 64, 67, 0.3), 0 1px 3px 1px rgba(60, 64, 67, 0.15);\n",
              "    fill: var(--button-hover-fill-color);\n",
              "  }\n",
              "\n",
              "  .colab-df-quickchart-complete:disabled,\n",
              "  .colab-df-quickchart-complete:disabled:hover {\n",
              "    background-color: var(--disabled-bg-color);\n",
              "    fill: var(--disabled-fill-color);\n",
              "    box-shadow: none;\n",
              "  }\n",
              "\n",
              "  .colab-df-spinner {\n",
              "    border: 2px solid var(--fill-color);\n",
              "    border-color: transparent;\n",
              "    border-bottom-color: var(--fill-color);\n",
              "    animation:\n",
              "      spin 1s steps(1) infinite;\n",
              "  }\n",
              "\n",
              "  @keyframes spin {\n",
              "    0% {\n",
              "      border-color: transparent;\n",
              "      border-bottom-color: var(--fill-color);\n",
              "      border-left-color: var(--fill-color);\n",
              "    }\n",
              "    20% {\n",
              "      border-color: transparent;\n",
              "      border-left-color: var(--fill-color);\n",
              "      border-top-color: var(--fill-color);\n",
              "    }\n",
              "    30% {\n",
              "      border-color: transparent;\n",
              "      border-left-color: var(--fill-color);\n",
              "      border-top-color: var(--fill-color);\n",
              "      border-right-color: var(--fill-color);\n",
              "    }\n",
              "    40% {\n",
              "      border-color: transparent;\n",
              "      border-right-color: var(--fill-color);\n",
              "      border-top-color: var(--fill-color);\n",
              "    }\n",
              "    60% {\n",
              "      border-color: transparent;\n",
              "      border-right-color: var(--fill-color);\n",
              "    }\n",
              "    80% {\n",
              "      border-color: transparent;\n",
              "      border-right-color: var(--fill-color);\n",
              "      border-bottom-color: var(--fill-color);\n",
              "    }\n",
              "    90% {\n",
              "      border-color: transparent;\n",
              "      border-bottom-color: var(--fill-color);\n",
              "    }\n",
              "  }\n",
              "</style>\n",
              "\n",
              "      <script>\n",
              "        async function quickchart(key) {\n",
              "          const quickchartButtonEl =\n",
              "            document.querySelector('#' + key + ' button');\n",
              "          quickchartButtonEl.disabled = true;  // To prevent multiple clicks.\n",
              "          quickchartButtonEl.classList.add('colab-df-spinner');\n",
              "          try {\n",
              "            const charts = await google.colab.kernel.invokeFunction(\n",
              "                'suggestCharts', [key], {});\n",
              "          } catch (error) {\n",
              "            console.error('Error during call to suggestCharts:', error);\n",
              "          }\n",
              "          quickchartButtonEl.classList.remove('colab-df-spinner');\n",
              "          quickchartButtonEl.classList.add('colab-df-quickchart-complete');\n",
              "        }\n",
              "        (() => {\n",
              "          let quickchartButtonEl =\n",
              "            document.querySelector('#df-5a121be9-5ced-42c2-aaa3-0d5e03f8de5f button');\n",
              "          quickchartButtonEl.style.display =\n",
              "            google.colab.kernel.accessAllowed ? 'block' : 'none';\n",
              "        })();\n",
              "      </script>\n",
              "    </div>\n",
              "\n",
              "  <div id=\"id_05ed1a9e-c236-41aa-a7fb-873785fd9bc9\">\n",
              "    <style>\n",
              "      .colab-df-generate {\n",
              "        background-color: #E8F0FE;\n",
              "        border: none;\n",
              "        border-radius: 50%;\n",
              "        cursor: pointer;\n",
              "        display: none;\n",
              "        fill: #1967D2;\n",
              "        height: 32px;\n",
              "        padding: 0 0 0 0;\n",
              "        width: 32px;\n",
              "      }\n",
              "\n",
              "      .colab-df-generate:hover {\n",
              "        background-color: #E2EBFA;\n",
              "        box-shadow: 0px 1px 2px rgba(60, 64, 67, 0.3), 0px 1px 3px 1px rgba(60, 64, 67, 0.15);\n",
              "        fill: #174EA6;\n",
              "      }\n",
              "\n",
              "      [theme=dark] .colab-df-generate {\n",
              "        background-color: #3B4455;\n",
              "        fill: #D2E3FC;\n",
              "      }\n",
              "\n",
              "      [theme=dark] .colab-df-generate:hover {\n",
              "        background-color: #434B5C;\n",
              "        box-shadow: 0px 1px 3px 1px rgba(0, 0, 0, 0.15);\n",
              "        filter: drop-shadow(0px 1px 2px rgba(0, 0, 0, 0.3));\n",
              "        fill: #FFFFFF;\n",
              "      }\n",
              "    </style>\n",
              "    <button class=\"colab-df-generate\" onclick=\"generateWithVariable('df')\"\n",
              "            title=\"Generate code using this dataframe.\"\n",
              "            style=\"display:none;\">\n",
              "\n",
              "  <svg xmlns=\"http://www.w3.org/2000/svg\" height=\"24px\"viewBox=\"0 0 24 24\"\n",
              "       width=\"24px\">\n",
              "    <path d=\"M7,19H8.4L18.45,9,17,7.55,7,17.6ZM5,21V16.75L18.45,3.32a2,2,0,0,1,2.83,0l1.4,1.43a1.91,1.91,0,0,1,.58,1.4,1.91,1.91,0,0,1-.58,1.4L9.25,21ZM18.45,9,17,7.55Zm-12,3A5.31,5.31,0,0,0,4.9,8.1,5.31,5.31,0,0,0,1,6.5,5.31,5.31,0,0,0,4.9,4.9,5.31,5.31,0,0,0,6.5,1,5.31,5.31,0,0,0,8.1,4.9,5.31,5.31,0,0,0,12,6.5,5.46,5.46,0,0,0,6.5,12Z\"/>\n",
              "  </svg>\n",
              "    </button>\n",
              "    <script>\n",
              "      (() => {\n",
              "      const buttonEl =\n",
              "        document.querySelector('#id_05ed1a9e-c236-41aa-a7fb-873785fd9bc9 button.colab-df-generate');\n",
              "      buttonEl.style.display =\n",
              "        google.colab.kernel.accessAllowed ? 'block' : 'none';\n",
              "\n",
              "      buttonEl.onclick = () => {\n",
              "        google.colab.notebook.generateWithVariable('df');\n",
              "      }\n",
              "      })();\n",
              "    </script>\n",
              "  </div>\n",
              "\n",
              "    </div>\n",
              "  </div>\n"
            ],
            "application/vnd.google.colaboratory.intrinsic+json": {
              "type": "dataframe",
              "variable_name": "df",
              "summary": "{\n  \"name\": \"df\",\n  \"rows\": 44898,\n  \"fields\": [\n    {\n      \"column\": \"title\",\n      \"properties\": {\n        \"dtype\": \"string\",\n        \"num_unique_values\": 38729,\n        \"samples\": [\n          \" WATCH: Dem Senator BLASTS Trump, Calls Him A Liar Live On Air\",\n          \"Trump calls for firm response to North Korea, targets Seoul on trade\",\n          \"Zimbabwe army leaves streets a month after Mugabe's ouster\"\n        ],\n        \"semantic_type\": \"\",\n        \"description\": \"\"\n      }\n    },\n    {\n      \"column\": \"text\",\n      \"properties\": {\n        \"dtype\": \"string\",\n        \"num_unique_values\": 38646,\n        \"samples\": [\n          \"It takes one to know one. Turkey just held a referendum that greatly expands the power of their president, Recep Tayyip Erdogan. It passed by a very narrow margin, taking Turkey on its latest step toward brutal dictatorship, and here s Donald Trump, who sources say called Erdogan to congratulate him on  winning  the referendum vote.While we re busy justifying blowing up absolutely nothing in Syria because a brutal dictator used sarin gas on his people, Trump is busy calling someone who s working hard on becoming the region s next brutal dictator to congratulate him on furthering that goal.This referendum, according to The Daily Beast, moves Turkey away from a parliamentary democracy and towards one-person rule. But what he has already done there makes the referendum more of a formality. Erdogan had already managed to form a one-party government   a move that greatly diminishes the voices of opposition.Last year, Erdogan asked Turkey s parliament to redefine the country s anti-extremism law to include politicians, journalists and members of academia. He claimed that  pro-Kurdish  politicians were inciting terrorism, and journalists and academics were spreading the info that allowed the politicians to do so. Therefore, they are all terrorists.Branding press as  the enemy  is something Trump has been trying to do here. As the Washington Post s front page motto says,  Democracy dies in darkness.  This is the darkness.And now, Erdogan is, more or less, the sole ruler of Turkey.But what does Trump care? It wouldn t be surprising to find that he wishes something like that would happen here, too, if for no other reason than it would help cement his overinflated opinion of himself as a great man who is beloved by all, with nobody left to shine a light on the truth, like, oh, say, a free press.The way the Turkey referendum was held has appalled international election monitors. According to them,  voters were not provided with adequate information, opposition voices were muzzled and the rules were changed at the last minute.  In short, this was not a truly democratic process.Good job continuing to support authoritarian rulers over true democracies, Trump. You re about as un-American as it gets.Featured image by Mark Wilson via Getty Images\",\n          \"Donald Trump just got caught lying again and there is video to prove it.When former FBI Director James Comey testified under oath in the Senate on Thursday, he recalled that Trump demanded loyalty from him before he was asked to drop the investigation of Michael Flynn and Trump s ties to Russia. The President said,  I need loyalty, I expect loyalty,  Comey testified.But when asked by ABC reporter Jon Karl if he had demanded Comey s loyalty, Trump denied the whole thing and pretended that he has never demanded loyalty from anyone in his entire life. So he said those things under oath,  Karl began.  Would you be willing to speak under oath to give your version of those events? One hundred percent,  Trump replied.  I didn t say under oath   I hardly know the man. I m not going to say, I want you to pledge allegiance. Who would do that? Who would ask a man to pledge allegiance under oath? I mean, think of it. I hardly know the man. It doesn t make sense. No, I didn t say that, and I didn t say the other. If Trump were to say this under oath he would he would be committing perjury. And CNN proved it by playing video of Trump on the campaign trail in Florida asking people in the crowd to raise their hands and pledge their loyalty to him. Keep in mind that Trump had never met anyone in that audience. But he had several discussions and meetings with Comey. In other words, Comey was not a complete stranger to him. If he was willing to ask a crowd of random people to pledge their allegiance to him, he would certainly be willing to demand loyalty from Comey.Here s the damning video via YouTube.This is yet more proof that Trump is a liar who has zero credibility. He will say anything to save his own ass.Featured image via Olivier Douliery   Pool/Getty Images\",\n          \"WASHINGTON (Reuters) - The U.S. State Department said on Monday Washington was  very concerned  by reports of violence around the Iraqi oil city of Kirkuk, which was seized by Baghdad s forces from Kurds.  We are monitoring the situation closely and call on all parties to coordinate military activities and restore calm,   State Department spokeswoman Heather Nauert said in a statement. \"\n        ],\n        \"semantic_type\": \"\",\n        \"description\": \"\"\n      }\n    },\n    {\n      \"column\": \"subject\",\n      \"properties\": {\n        \"dtype\": \"category\",\n        \"num_unique_values\": 8,\n        \"samples\": [\n          \"politicsNews\",\n          \"worldnews\",\n          \"US_News\"\n        ],\n        \"semantic_type\": \"\",\n        \"description\": \"\"\n      }\n    },\n    {\n      \"column\": \"date\",\n      \"properties\": {\n        \"dtype\": \"category\",\n        \"num_unique_values\": 2397,\n        \"samples\": [\n          \"July 3, 2016\",\n          \"Jul 29, 2015\",\n          \"Nov 28, 2016\"\n        ],\n        \"semantic_type\": \"\",\n        \"description\": \"\"\n      }\n    },\n    {\n      \"column\": \"label\",\n      \"properties\": {\n        \"dtype\": \"number\",\n        \"std\": 0,\n        \"min\": 0,\n        \"max\": 1,\n        \"num_unique_values\": 2,\n        \"samples\": [\n          1,\n          0\n        ],\n        \"semantic_type\": \"\",\n        \"description\": \"\"\n      }\n    },\n    {\n      \"column\": \"combined_text\",\n      \"properties\": {\n        \"dtype\": \"string\",\n        \"num_unique_values\": 39105,\n        \"samples\": [\n          \"HILLARY\\u2019S RIGHT-HAND WOMAN: HUMA ABEDIN\\u2019S Job At A Radical Muslim Journal Calls Into Question Security Clearance For State Department Huma Abedin is no champion for female equality with her record of working closely with a radical Muslim Journal. Her family is known to be connected to some shady characters in the Muslim world BUT this hits home:Hillary Clinton s top campaign aide, and the woman who might be the future White House chief of staff to the first female US president, for a decade edited a radical Muslim publication that opposed women s rights and blamed the US for 9/11.One of Clinton s biggest accomplishments listed on her campaign Web site is her support for the UN women s conference in Bejing in 1995, when she famously declared,  Women s rights are human rights.  Her speech has emerged as a focal point of her campaign, featured prominently in last month s Morgan Freeman-narrated convention video introducing her as the Democratic nominee.However, soon after that  historic and transformational  1995 event, as Clinton recently described it, her top aide Huma Abedin published articles in a Saudi journal taking Clinton s feminist platform apart, piece by piece. At the time, Abedin was assistant editor of the Journal of Muslim Minority Affairs working under her mother, who remains editor-in-chief. She was also working in the White House as an intern for then-First Lady Clinton.Headlined  Women s Rights are Islamic Rights,  a 1996 article argues that single moms, working moms and gay couples with children should not be recognized as families. It also states that more revealing dress ushered in by women s liberation  directly translates into unwanted results of sexual promiscuity and irresponsibility and indirectly promote violence against women.  In other words, sexually liberated women are just asking to be raped.Read more: NYP\",\n          \" Trump Has The Most UNCOMFORTABLE Moment With Merkel, Makes A FOOL Of Himself (VIDEO) Earlier today, Donald Trump had a joint conference with German Chancellor Angela Merkel, and he used it as an opportunity to embarrass himself (and the rest of the United States) in front of yet another world leader. Sadly, this is a pattern that the once highly respected America is becoming used to.When Trump was asked if he regretted some of his tweets, particularly his insane wiretapping accusations against former President Barack Obama, Trump failed miserably in his attempt to handle the situation and redeem himself with Merkel, who he d been criticizing for the past few months after she allowed Syrian refugees into her country.Trump stated that he  very seldom  regrets the things he posts on Twitter, right before turning to Merkel and making a reference to the unfounded wiretapping accusation he created. Trump suggested that perhaps the two of them had something in common, in an attempt to make a joke about Obama s surveillance of Germany s administration and press. The problem was, it took several moments for anyone in the audience to get the joke, and the tension in the room was nothing but awkward and uncomfortable as everyone tried to figure out just what the hell Trump was talking about.You can watch this strange moment unfold below, thanks to MSNBC:This humiliating moment was just one of the memorable instances between Merkel and Trump today. Trump embarrassed himself again during a sit-down meeting with the German chancellor by turning down her offer to shake hands, making himself seem even more offensive and rude than ever before. Considering Trump s horrendous track record with women, he couldn t have chosen a more disrespectful thing to do. Then again, I guess we should all be thankful that he didn t grab her by the p*ssy.Trump continues to make the U.S. look horrible in front of other countries, and it s only been two months. I don t even want to think about the damage he could do to our reputation in four years. Hopefully, he won t last that long.Featured image via Justin Sullivan/Getty Images\"\n        ],\n        \"semantic_type\": \"\",\n        \"description\": \"\"\n      }\n    },\n    {\n      \"column\": \"clean_text\",\n      \"properties\": {\n        \"dtype\": \"string\",\n        \"num_unique_values\": 39067,\n        \"samples\": [\n          \"watch donald trump finds yuge support unlikely fan sc muslimand trump gop candidate donald trump walked packed group supporters rally sc approached man yelled muslim support man way media spent enormous amount time trying convince voters trump never get muslim vote hate earned muslim community saying need stop allowing unvetted muslim refugees enter countrylook exchange used future trump ads\",\n          \"breaking watchdog documents prove epa knew potential catastrophic blowout toxic waste co mine redacted government documents covering another scandal obama transparent government ever internal documents released late friday show managers yous environmental protection agency aware potential catastrophic blowout abandoned mine could release large volumes wastewater laced toxic heavy metalsepa released documents following weeks prodding associated press media organizations epa contract workers accidentally unleashed million gallons contaminated wastewater august inspected idled gold king mine near silverton coloradoamong documents june work order planned cleanup noted old mine accessible since entrance partially collapsed plan appears produced environmental restoration private contractor working epa condition likely caused impounding water behind collapse report says ln addition collapses within workings may occurred creating additional water impounding conditions conditions may exist could result blowout blockages release large volumes contaminated mine waters sediment inside mine contain concentrated heavy metals subsequent may action plan mine also notes potential blowoutthere least three ongoing investigations exactly epa triggered disaster tainted rivers colorado new mexico utah lead arsenic contaminates epa says water testing shown contamination levels since fallen back prespill levels though experts warn heavy metals likely sunk mixed bottom sediments could someday stirred back upthe documents agency released pm eastern time include account happened immediately spill wastewater flowed tributary animas san juan rivers turning sickly yellowelected officials affected states elsewhere highly critical epa initial response among unanswered questions took agency nearly day inform local officials downstream communities rely rivers drinking watermuch text documents released friday redacted epa officials among items blacked line safety plan gold king job specifies whether workers required phones could work remote site feet mountainepa immediately respond friday night questions ap wake spill typically taken days get detailed response agency allon website contractor environmental restoration posted brief statement last week confirming employees present mine spill occurred company declined provide detail saying would violate contractual confidentiality obligations via ap news\"\n        ],\n        \"semantic_type\": \"\",\n        \"description\": \"\"\n      }\n    },\n    {\n      \"column\": \"text_length\",\n      \"properties\": {\n        \"dtype\": \"number\",\n        \"std\": 198,\n        \"min\": 0,\n        \"max\": 4849,\n        \"num_unique_values\": 1040,\n        \"samples\": [\n          275,\n          527\n        ],\n        \"semantic_type\": \"\",\n        \"description\": \"\"\n      }\n    },\n    {\n      \"column\": \"char_length\",\n      \"properties\": {\n        \"dtype\": \"number\",\n        \"std\": 1535,\n        \"min\": 0,\n        \"max\": 38769,\n        \"num_unique_values\": 5157,\n        \"samples\": [\n          3094,\n          4005\n        ],\n        \"semantic_type\": \"\",\n        \"description\": \"\"\n      }\n    }\n  ]\n}"
            }
          },
          "metadata": {},
          "execution_count": 11
        }
      ]
    },
    {
      "cell_type": "markdown",
      "source": [
        "##Text Tokenization"
      ],
      "metadata": {
        "id": "qp0crUBnFP6W"
      }
    },
    {
      "cell_type": "code",
      "source": [
        "tokenized_texts = [text.split() for text in df['clean_text']]"
      ],
      "metadata": {
        "id": "jOmRNzPLFj1F"
      },
      "execution_count": 12,
      "outputs": []
    },
    {
      "cell_type": "code",
      "source": [
        "# Build vocabulary\n",
        "word_counter = Counter(word for tokens in tokenized_texts for word in tokens)\n",
        "vocab_size = 10000          # Limit vocab size\n",
        "most_common = word_counter.most_common(vocab_size  - 2)"
      ],
      "metadata": {
        "id": "KNPmY5M0F0vW"
      },
      "execution_count": 13,
      "outputs": []
    },
    {
      "cell_type": "code",
      "source": [
        "# Create word-to-index mappings\n",
        "word2idx = {word: idx + 2 for idx, (word, _) in enumerate(most_common)}\n",
        "word2idx[\"<PAD>\"] = 0\n",
        "word2idx[\"<UNK>\"] = 1\n",
        "idx2word = {idx: word for word, idx in word2idx.items()}"
      ],
      "metadata": {
        "id": "cdPs7kPAGhd_"
      },
      "execution_count": 14,
      "outputs": []
    },
    {
      "cell_type": "markdown",
      "source": [
        "##Dataset Preparation"
      ],
      "metadata": {
        "id": "NbVrrYjyHbsK"
      }
    },
    {
      "cell_type": "code",
      "source": [
        "# Function to convert tokens to indices\n",
        "def encode(tokens, word2idx, max_len):\n",
        "  ids = [word2idx.get(word, word2idx[\"<UNK>\"]) for word in tokens]\n",
        "  if len(ids) < max_len:\n",
        "    ids += [word2idx[\"<PAD>\"]]* (max_len - len(ids))\n",
        "  else:\n",
        "    ids = ids[:max_len]\n",
        "  return ids"
      ],
      "metadata": {
        "id": "eDzWVbTrHhTS"
      },
      "execution_count": 15,
      "outputs": []
    },
    {
      "cell_type": "code",
      "source": [
        "max_len = 300\n",
        "encoded_texts = [encode(tokens, word2idx, max_len) for tokens in tokenized_texts]\n",
        "labels = df['label']. values"
      ],
      "metadata": {
        "id": "zb1D8IV8JCLT"
      },
      "execution_count": 16,
      "outputs": []
    },
    {
      "cell_type": "code",
      "source": [
        "# create the custom dataset\n",
        "class NewsDataset(Dataset):\n",
        "  def __init__(self, inputs, labels):\n",
        "    self.inputs = torch.tensor(inputs, dtype=torch.long)\n",
        "    self.labels = torch.tensor(labels, dtype=torch.float32)\n",
        "\n",
        "  def __len__(self):\n",
        "    return len(self.labels)\n",
        "\n",
        "\n",
        "  def __getitem__ (self, idx):\n",
        "    return self.inputs[idx], self.labels[idx]"
      ],
      "metadata": {
        "id": "xdc59yqmJYYV"
      },
      "execution_count": 17,
      "outputs": []
    },
    {
      "cell_type": "markdown",
      "source": [
        "Split the data into Train, Val and Test splits"
      ],
      "metadata": {
        "id": "CKy1l_s6KXBU"
      }
    },
    {
      "cell_type": "code",
      "source": [
        "X_train, X_temp, y_train, y_temp = train_test_split(\n",
        "    encoded_texts, labels, test_size=0.30, random_state=42, stratify=labels\n",
        ")\n",
        "\n",
        "X_val, X_test, y_val, y_test = train_test_split(\n",
        "    X_temp, y_temp, test_size=0.50, random_state=42, stratify=y_temp\n",
        ")"
      ],
      "metadata": {
        "id": "3ugnhfY7KeOX"
      },
      "execution_count": 18,
      "outputs": []
    },
    {
      "cell_type": "code",
      "source": [
        "# Create datasets\n",
        "train_dataset = NewsDataset(X_train, y_train)\n",
        "val_dataset = NewsDataset(X_val, y_val)\n",
        "test_dataset = NewsDataset(X_test, y_test)"
      ],
      "metadata": {
        "id": "JklUklGdVcLH"
      },
      "execution_count": 19,
      "outputs": []
    },
    {
      "cell_type": "code",
      "source": [
        "train_dataset[0]"
      ],
      "metadata": {
        "colab": {
          "base_uri": "https://localhost:8080/"
        },
        "id": "otxFdx43XcM2",
        "outputId": "d6ec271b-7239-4a8e-de3a-f60ac75b50c5"
      },
      "execution_count": 20,
      "outputs": [
        {
          "output_type": "execute_result",
          "data": {
            "text/plain": [
              "(tensor([4420, 1918,   39,  516,   35,   88, 9491,  127,   70,    3, 2898,   24,\n",
              "            8,  413, 1348,  306,   70,    3,  412, 1918,  965,  127,   70,   14,\n",
              "            3, 3105,  132,    1,    1,  934,    1,  757,  826,   38,  706, 2618,\n",
              "           19,  318,   86,  115, 2090,   36, 1174,    1, 3299,    3,  909,  353,\n",
              "          465, 1596,   38, 1334,   32,    1,  350,   27,   34,    1, 6685,  111,\n",
              "          374,  411,  227,   39,   24,   22,   16, 2678,  432,    5,  750,   64,\n",
              "            7,   50,  589,  153,   22,   16,    1,    2,   78, 4546,  219,    1,\n",
              "          295,  560,   56,  476,   55,   90,  997,  182, 3458,   70,    3,  153,\n",
              "         1549,   58,  412,  757, 3127,   88,   15,    1, 2240,  300, 2017,  135,\n",
              "          836, 1767,  685, 4673, 3268,  477,  801,    1, 5532,  412, 1711,  709,\n",
              "           61,   15,  580,  745, 2952,   30,   35,  934,  125,   10,   11, 1091,\n",
              "          469, 1347,  135,  169, 1217, 2188,  745,    6,  258, 1711,   42,   11,\n",
              "           15,  685,    1,   15, 1935,    1, 7253,  697,  635, 1088, 1627, 8995,\n",
              "           15,  685, 1845,    8,   35,  163, 2066, 9551, 5980,  934,  720,    9,\n",
              "          130,  379, 1689, 3989,    1,   61,   15, 1165,   33,    1,  412, 1918,\n",
              "            1, 2807,    1,  799,    1,  587, 1879, 7769,   15,  685,  397,    1,\n",
              "         3064,  935, 8670,   61,   15,   62, 5832,  281, 2142, 1827,  110,   88,\n",
              "          412, 3557,    1,  268, 9592,  379,   36, 1174,  849,  110,    1,  757,\n",
              "           18, 3050,  481,  935,    1,  455,  944,  223, 2482, 2627,  538,    1,\n",
              "          944,  525,    1, 3399, 7667,  953,   26,   87,  492, 2057,    0,    0,\n",
              "            0,    0,    0,    0,    0,    0,    0,    0,    0,    0,    0,    0,\n",
              "            0,    0,    0,    0,    0,    0,    0,    0,    0,    0,    0,    0,\n",
              "            0,    0,    0,    0,    0,    0,    0,    0,    0,    0,    0,    0,\n",
              "            0,    0,    0,    0,    0,    0,    0,    0,    0,    0,    0,    0,\n",
              "            0,    0,    0,    0,    0,    0,    0,    0,    0,    0,    0,    0]),\n",
              " tensor(0.))"
            ]
          },
          "metadata": {},
          "execution_count": 20
        }
      ]
    },
    {
      "cell_type": "code",
      "source": [
        "# Create data loaders\n",
        "batch_size = 32\n",
        "\n",
        "train_loader = dataloader.DataLoader(train_dataset, batch_size=batch_size, shuffle=True)\n",
        "val_loader = dataloader.DataLoader(val_dataset, batch_size=batch_size, shuffle=False)\n",
        "test_loader = dataloader.DataLoader(test_dataset, batch_size=batch_size, shuffle=False)"
      ],
      "metadata": {
        "id": "Vo10gkGNXjMK"
      },
      "execution_count": 24,
      "outputs": []
    },
    {
      "cell_type": "markdown",
      "source": [
        "## Choose the model"
      ],
      "metadata": {
        "id": "YkjMIZh9MDFi"
      }
    },
    {
      "cell_type": "code",
      "source": [
        "class LSTMClassifier(nn.Module):\n",
        "  def __init__(self, vocab_size, embedding_dim=100, hidden_dim=128, num_layers=1,\n",
        "               dropout=0.5, bidirectional=True):\n",
        "    super(LSTMClassifier, self).__init__()\n",
        "    self.embedding = nn.Embedding(vocab_size, embedding_dim, padding_idx=0)\n",
        "    self.lstm = nn.LSTM(\n",
        "        input_size=embedding_dim,\n",
        "        hidden_size=hidden_dim,\n",
        "        num_layers=num_layers,\n",
        "        batch_first=True,\n",
        "        bidirectional=bidirectional,\n",
        "        dropout=dropout if num_layers > 1 else 0\n",
        "    )\n",
        "    self.dropout = nn.Dropout(dropout)\n",
        "    self.fc = nn.Linear(hidden_dim * (2 if bidirectional else 1), 1)\n",
        "    self.sigmoid = nn.Sigmoid()\n",
        "\n",
        "  def forward(self, x):\n",
        "    embedded = self.embedding(x)  # [batch_size, seq_len, embed_dim]\n",
        "    lstm_out, _ = self.lstm(embedded)  # lstm_out: [batch_size, seq_len, hidden_dim * num_directions]\n",
        "    # Take the hidden state (can use mean or max pooling too\n",
        "    last_hidden = lstm_out[:, -1, :]  # [batch_size, hidden_dim * num_directions]\n",
        "    out = self.dropout(last_hidden)\n",
        "    out = self.fc(out)\n",
        "    return self.sigmoid(out).squeeze()"
      ],
      "metadata": {
        "id": "xElu_L_1Mzrg"
      },
      "execution_count": 25,
      "outputs": []
    },
    {
      "cell_type": "code",
      "source": [
        "model = LSTMClassifier(\n",
        "    vocab_size=len(word2idx),\n",
        "    embedding_dim=100,\n",
        "    hidden_dim=128,\n",
        "    num_layers=1,\n",
        "    dropout=0.5,\n",
        "    bidirectional=True\n",
        ")"
      ],
      "metadata": {
        "id": "azoREKJcP-1Y"
      },
      "execution_count": 26,
      "outputs": []
    },
    {
      "cell_type": "code",
      "source": [
        "# Move model to GPU if available\n",
        "device = torch.device(\"cuda\" if torch.cuda.is_available() else \"cpu\")\n",
        "device"
      ],
      "metadata": {
        "colab": {
          "base_uri": "https://localhost:8080/"
        },
        "id": "GTJCZLspVuaI",
        "outputId": "4159c07d-d503-4230-c18e-7621fbb43d56"
      },
      "execution_count": 29,
      "outputs": [
        {
          "output_type": "execute_result",
          "data": {
            "text/plain": [
              "device(type='cpu')"
            ]
          },
          "metadata": {},
          "execution_count": 29
        }
      ]
    },
    {
      "cell_type": "code",
      "source": [
        "model = model.to(device)"
      ],
      "metadata": {
        "id": "Rbcp9PxmWCR5"
      },
      "execution_count": 30,
      "outputs": []
    },
    {
      "cell_type": "markdown",
      "source": [
        "## Model Training"
      ],
      "metadata": {
        "id": "4LHNFVByQt67"
      }
    },
    {
      "cell_type": "code",
      "source": [
        "# Loss function\n",
        "criterion = nn.BCELoss()\n",
        "\n",
        "# Optimizer\n",
        "optimizer = optim.Adam(model.parameters(), lr=1e-3)"
      ],
      "metadata": {
        "id": "tCsEF1AkQ01a"
      },
      "execution_count": 27,
      "outputs": []
    },
    {
      "cell_type": "code",
      "source": [
        "num_epochs = 10"
      ],
      "metadata": {
        "id": "1NDcc7TpRLk1"
      },
      "execution_count": 28,
      "outputs": []
    },
    {
      "cell_type": "code",
      "source": [
        "for epoch in range(num_epochs):\n",
        "  model.train()\n",
        "  train_loss = 0.0\n",
        "  correct, total = 0, 0\n",
        "\n",
        "  loop = tqdm(train_loader, desc=f\"Epoch {epoch+1}/{num_epochs}\", leave=False)\n",
        "  for inputs, labels in loop:\n",
        "    inputs, labels = inputs.to(device), labels.to(device)\n",
        "\n",
        "    optimizer.zero_grad()\n",
        "    outputs = model(inputs)\n",
        "\n",
        "    loss = criterion(outputs, labels)\n",
        "    loss.backward()\n",
        "    optimizer.step()\n",
        "\n",
        "    train_loss += loss.item() * inputs.size(0)\n",
        "\n",
        "    preds = (outputs >= 0.5).float()\n",
        "    correct += (preds == labels).sum().item()\n",
        "    total += labels.size(0)\n",
        "\n",
        "    # Update progress bar\n",
        "    loop.set_postfix(loss=loss.item())\n",
        "\n",
        "  train_acc = correct / total\n",
        "  avg_train_loss = train_loss / total\n",
        "\n",
        "  # validation\n",
        "  model.eval()\n",
        "  val_loss, val_correct, val_total = 0.0, 0, 0\n",
        "  with torch.no_grad():\n",
        "    val_loop = tqdm(val_loader, desc=\"validation\", leave=False)\n",
        "    for inputs, labels in val_loop:\n",
        "      inputs, labels = inputs.to(device), labels.to(device)\n",
        "      outputs = model(inputs)\n",
        "\n",
        "      loss = criterion(outputs, labels)\n",
        "      val_loss += loss.item() * inputs.size(0)\n",
        "\n",
        "      preds = (outputs >= 0.5).float()\n",
        "      val_correct += (preds == labels).sum().item()\n",
        "      val_total += labels.size(0)\n",
        "\n",
        "      val_loop.set_postfix(val_loss=loss.item())\n",
        "\n",
        "    val_acc = val_correct / val_total\n",
        "    avg_val_loss = val_loss / val_total\n",
        "\n",
        "    # Epoch summary\n",
        "    print(f\"[Epoch {epoch+1}] Train Loss: {avg_train_loss:.4f} | Train Acc: {train_acc:.4f} | Val Loss: {avg_val_loss:.4f} | Val Acc: {val_acc:.4f}\")\n"
      ],
      "metadata": {
        "colab": {
          "base_uri": "https://localhost:8080/"
        },
        "id": "TW1LimiIRQZL",
        "outputId": "f4fdf606-5e4b-400a-ce40-e2b367060f01"
      },
      "execution_count": 32,
      "outputs": [
        {
          "metadata": {
            "tags": null
          },
          "name": "stderr",
          "output_type": "stream",
          "text": [
            ""
          ]
        },
        {
          "metadata": {
            "tags": null
          },
          "name": "stdout",
          "output_type": "stream",
          "text": [
            "[Epoch 1] Train Loss: 0.6688 | Train Acc: 0.5717 | Val Loss: 0.6677 | Val Acc: 0.5710\n"
          ]
        },
        {
          "metadata": {
            "tags": null
          },
          "name": "stderr",
          "output_type": "stream",
          "text": [
            ""
          ]
        },
        {
          "metadata": {
            "tags": null
          },
          "name": "stdout",
          "output_type": "stream",
          "text": [
            "[Epoch 2] Train Loss: 0.5121 | Train Acc: 0.7436 | Val Loss: 0.3615 | Val Acc: 0.8777\n"
          ]
        },
        {
          "metadata": {
            "tags": null
          },
          "name": "stderr",
          "output_type": "stream",
          "text": [
            ""
          ]
        },
        {
          "metadata": {
            "tags": null
          },
          "name": "stdout",
          "output_type": "stream",
          "text": [
            "[Epoch 3] Train Loss: 0.5198 | Train Acc: 0.6980 | Val Loss: 0.6433 | Val Acc: 0.5645\n"
          ]
        },
        {
          "metadata": {
            "tags": null
          },
          "name": "stderr",
          "output_type": "stream",
          "text": [
            ""
          ]
        },
        {
          "metadata": {
            "tags": null
          },
          "name": "stdout",
          "output_type": "stream",
          "text": [
            "[Epoch 4] Train Loss: 0.3737 | Train Acc: 0.8330 | Val Loss: 0.1030 | Val Acc: 0.9724\n"
          ]
        },
        {
          "metadata": {
            "tags": null
          },
          "name": "stderr",
          "output_type": "stream",
          "text": [
            ""
          ]
        },
        {
          "metadata": {
            "tags": null
          },
          "name": "stdout",
          "output_type": "stream",
          "text": [
            "[Epoch 5] Train Loss: 0.1139 | Train Acc: 0.9727 | Val Loss: 0.0788 | Val Acc: 0.9803\n"
          ]
        },
        {
          "metadata": {
            "tags": null
          },
          "name": "stderr",
          "output_type": "stream",
          "text": [
            ""
          ]
        },
        {
          "metadata": {
            "tags": null
          },
          "name": "stdout",
          "output_type": "stream",
          "text": [
            "[Epoch 6] Train Loss: 0.0909 | Train Acc: 0.9788 | Val Loss: 0.0617 | Val Acc: 0.9868\n"
          ]
        },
        {
          "metadata": {
            "tags": null
          },
          "name": "stderr",
          "output_type": "stream",
          "text": [
            ""
          ]
        },
        {
          "metadata": {
            "tags": null
          },
          "name": "stdout",
          "output_type": "stream",
          "text": [
            "[Epoch 7] Train Loss: 0.0463 | Train Acc: 0.9916 | Val Loss: 0.0437 | Val Acc: 0.9920\n"
          ]
        },
        {
          "output_type": "stream",
          "name": "stderr",
          "text": []
        },
        {
          "output_type": "stream",
          "name": "stdout",
          "text": [
            "[Epoch 8] Train Loss: 0.0331 | Train Acc: 0.9940 | Val Loss: 0.0320 | Val Acc: 0.9941\n"
          ]
        },
        {
          "output_type": "stream",
          "name": "stderr",
          "text": []
        },
        {
          "output_type": "stream",
          "name": "stdout",
          "text": [
            "[Epoch 9] Train Loss: 0.0779 | Train Acc: 0.9767 | Val Loss: 0.5818 | Val Acc: 0.5834\n"
          ]
        },
        {
          "output_type": "stream",
          "name": "stderr",
          "text": [
            "                                                                              "
          ]
        },
        {
          "output_type": "stream",
          "name": "stdout",
          "text": [
            "[Epoch 10] Train Loss: 0.1656 | Train Acc: 0.9429 | Val Loss: 0.0440 | Val Acc: 0.9875\n"
          ]
        },
        {
          "output_type": "stream",
          "name": "stderr",
          "text": [
            "\r"
          ]
        }
      ]
    },
    {
      "cell_type": "markdown",
      "source": [
        "## Model Evaluation"
      ],
      "metadata": {
        "id": "45NYN9G8YDgV"
      }
    },
    {
      "cell_type": "code",
      "source": [
        "def evaluate_model(model, dataloader, device, title=\"Confusion Matrix\"):\n",
        "  model.eval()\n",
        "  all_preds = []\n",
        "  all_labels = []\n",
        "\n",
        "  with torch.no_grad():\n",
        "    for inputs, labels in tqdm(dataloader, desc=\"Evaluating\", leave=False):\n",
        "      inputs = inputs.to(device)\n",
        "      labels = labels.to(device)\n",
        "\n",
        "      outputs = model(inputs)\n",
        "      preds = (outputs >=0.5).float()\n",
        "\n",
        "      all_preds.extend(preds.cpu().numpy())\n",
        "      all_labels.extend(labels.cpu().numpy())\n",
        "\n",
        "  # Convert to numpy arrays\n",
        "  all_preds = np.array(all_preds)\n",
        "  all_labels = np.array(all_labels)\n",
        "\n",
        "  # Compute evaluation metrics\n",
        "  acc = accuracy_score(all_labels, all_preds)\n",
        "  prec = precision_score(all_labels, all_preds)\n",
        "  rec = recall_score(all_labels, all_preds)\n",
        "  f1 = f1_score(all_labels, all_preds)\n",
        "\n",
        "\n",
        "  print(f\"Evaluation Metrics:\")\n",
        "  print(f\"Accuracy: {acc:.4f}\")\n",
        "  print(f\"Precision: {prec:.4f}\")\n",
        "  print(f\"Recall: {rec:.4f}\")\n",
        "  print(f\"F1 Score: {f1:.4f}\")\n",
        "\n",
        "  # Confusion Matrix\n",
        "  cm = confusion_matrix(all_labels, all_preds)\n",
        "  plt.figure(figsize=(6, 5))\n",
        "  sns.heatmap(cm, annot=True, fmt='d', cmap='Blues', xticklabels=[\"Fake\", \"Real\"], yticklabels=[\"Fake\", \"Real\"])\n",
        "  plt.xlabel(\"Predicted Label\")\n",
        "  plt.ylabel(\"True Label\")\n",
        "  plt.title(title)\n",
        "  plt.show()"
      ],
      "metadata": {
        "id": "fuFJwGXXYzoL"
      },
      "execution_count": 35,
      "outputs": []
    },
    {
      "cell_type": "code",
      "source": [
        "evaluate_model(model, test_loader, device, title=\"Test Confusion Matrix\")"
      ],
      "metadata": {
        "colab": {
          "base_uri": "https://localhost:8080/",
          "height": 576
        },
        "id": "GCWw1HqKcZOI",
        "outputId": "3381a234-bf92-4f83-f9c7-20b2cd29d7c2"
      },
      "execution_count": 36,
      "outputs": [
        {
          "output_type": "stream",
          "name": "stderr",
          "text": []
        },
        {
          "output_type": "stream",
          "name": "stdout",
          "text": [
            "Evaluation Metrics:\n",
            "Accuracy: 0.9881\n",
            "Precision: 0.9863\n",
            "Recall: 0.9888\n",
            "F1 Score: 0.9876\n"
          ]
        },
        {
          "output_type": "display_data",
          "data": {
            "text/plain": [
              "<Figure size 600x500 with 2 Axes>"
            ],
            "image/png": "[encoded data removed]"
          },
          "metadata": {}
        }
      ]
    },
    {
      "cell_type": "markdown",
      "source": [
        "## Save the model"
      ],
      "metadata": {
        "id": "dSwQms4ncoMt"
      }
    },
    {
      "cell_type": "code",
      "source": [
        "torch.save(model, 'model.pt')"
      ],
      "metadata": {
        "id": "_aGPigb2csGs"
      },
      "execution_count": null,
      "outputs": []
    }
  ]
}